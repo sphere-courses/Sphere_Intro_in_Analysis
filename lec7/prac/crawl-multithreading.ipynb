{
 "cells": [
  {
   "cell_type": "code",
   "execution_count": 1,
   "metadata": {},
   "outputs": [],
   "source": [
    "import json\n",
    "import codecs\n",
    "import logging\n",
    "from collections import defaultdict\n",
    "\n",
    "import regex\n",
    "import requests\n",
    "from tqdm import tqdm\n",
    "from bs4 import BeautifulSoup\n",
    "from multiprocessing.dummy import Pool as ThreadPool\n",
    "\n",
    "# In case of Windows System go to https://www.lfd.uci.edu/~gohlke/pythonlibs/#pycurl and download binary\n",
    "# ! pip install --user ./pycurl‑7.43.0.3‑cp37‑cp37m‑win_amd64.whl"
   ]
  },
  {
   "cell_type": "markdown",
   "metadata": {},
   "source": [
    "### Get All Movie Links"
   ]
  },
  {
   "cell_type": "code",
   "execution_count": 2,
   "metadata": {},
   "outputs": [],
   "source": [
    "base_url = 'https://www.kinopoisk.ru/lists/navigator/{0}/?page={1}&tab=all'\n",
    "MOVIE_URLS = set()"
   ]
  },
  {
   "cell_type": "code",
   "execution_count": 3,
   "metadata": {},
   "outputs": [],
   "source": [
    "cookies = '''\n",
    "gdpr=0; yandexuid=9658735171644283443; yuidss=9658735171644283443; _ym_isad=1; user-geo-region-id=213; user-geo-country-id=2; desktop_session_key=07c7f29bc2fc1aa053d4e7afa3d64e0f2d83a1c2605ce4a88901b98a1a13a608b94f9e459df484abb5bbf3430921654178cd0a6b7b0645b4bf58fb188603501dec45e6e03966edb267af6a33ff0e730f35cca987746d5edee13805ec219abfec; desktop_session_key.sig=o2rC9yYuvyl4HoJtmza-1uxmpZA; mda_exp_enabled=1; location=1; cmtchd=MTY0NDYwMjA3ODEyNw==; crookie=85Xcn5gPcFsWg2O8Hc7gSE9nrp9GpIUm6XrHAIa1iRa39uwv3w5yfT5lUvsn6TSwiS9EAZpe4WRJG1vuF7JWf8mk9Ro=; ya_sess_id=3:1644602078.5.0.1644595873783:jZqlXw:14.1.2:1|941132219.0.2|30:205017.45837.GB9g_yYovgJfXzweK6-KALwTqK4; yandex_login=mmpprepods; ys=udn.cDptbXBwcmVwb2Rz#c_chck.3848231965; i=C/R8mgF42N5TZqWGQqNJejN3emnpqaWEK9KGRg55OE2Q8oKWccY6uAHUCEagjd6oFHNH5svcn+y61iMKU12WcXwqLHE=; mda2_beacon=1644602078233; sso_status=sso.passport.yandex.ru:synchronized; adblock-warning-toast-hide=1; _csrf=T8G5KYQAFPdYh-PdCNUxVx9e; PHPSESSID=90879c3ab82bb0aa2a03b4f3069c5677; user_country=ru; yandex_gid=213; tc=1; uid=41641957; _csrf_csrf_token=3Jvr8qYicvk3Aw90dvFq1ivP20IP2xOlOA0za0YgYo8; mobile=no; _ym_visorc=b; _ym_uid=1644602049624964346; yandex_plus_metrika_cookie=true; spravka=dD0xNjQ0NjA4NDQzO2k9OTUuMTY1LjE1NC4xNDE7RD1FNkIyNDNCRUZDNzY2NDZEQkM3MjYzMTZENDQ1RjUzMDFDNDg3QTU4MUY0NEI0NzA4MkJEOUY4NDQ3QjhCQTIwNTk5MjJDMTU7dT0xNjQ0NjA4NDQzNzUwNzU0NzE4O2g9NzQwYWM0YzUwOTQ1N2Q1ZjYyYTVmNTI2YWMzOWIxM2Q=; _ym_d=1644608764\n",
    "'''.replace('\\n', '').split('; ')\n",
    "\n",
    "cookies = {\n",
    "    key: '='.join(values) for key, *values in [cookie.split('=') for cookie in cookies]\n",
    "}"
   ]
  },
  {
   "cell_type": "code",
   "execution_count": 4,
   "metadata": {},
   "outputs": [],
   "source": [
    "for year in [2021, 2020, 2019, 2018, 2017, 2016, 2015]:\n",
    "    for page_idx in range(1, 30):\n",
    "        result = requests.request('GET', base_url.format(year, page_idx), cookies=cookies)\n",
    "        soup = BeautifulSoup(result.content.decode(), 'lxml')\n",
    "        \n",
    "        films_div = soup.find_all('div', {'class': regex.compile('desktop-seo-selection-film-item selection-list__film')})\n",
    "        for film_div in films_div:\n",
    "            film_href = film_div.findAll('a', {'class': regex.compile('selection-film-item-meta__link')})[0].attrs['href']\n",
    "            MOVIE_URLS.add(film_href)"
   ]
  },
  {
   "cell_type": "code",
   "execution_count": 5,
   "metadata": {},
   "outputs": [
    {
     "name": "stdout",
     "output_type": "stream",
     "text": [
      "Total movie urls: 3135\n",
      "Examples: \n",
      "/film/839646/\n",
      "/film/780306/\n",
      "/film/908348/\n",
      "/film/765099/\n",
      "/film/1179628/\n"
     ]
    }
   ],
   "source": [
    "MOVIE_URLS = list(MOVIE_URLS)\n",
    "print('Total movie urls: %d' % len(MOVIE_URLS))\n",
    "print('Examples: \\n%s' % '\\n'.join(MOVIE_URLS[:5]))"
   ]
  },
  {
   "cell_type": "code",
   "execution_count": 6,
   "metadata": {},
   "outputs": [],
   "source": [
    "base_reviews_url = 'https://www.kinopoisk.ru{0}reviews/ord/date/status/all/perpage/200/'"
   ]
  },
  {
   "cell_type": "code",
   "execution_count": 7,
   "metadata": {},
   "outputs": [],
   "source": [
    "def text_with_newlines(elem):\n",
    "    text = ''\n",
    "    for e in elem.recursiveChildGenerator():\n",
    "        if isinstance(e, str):\n",
    "            text += e.strip()\n",
    "        elif e.name == 'br':\n",
    "            text += '\\n'\n",
    "    return text"
   ]
  },
  {
   "cell_type": "code",
   "execution_count": 8,
   "metadata": {},
   "outputs": [],
   "source": [
    "def process_movie(movie_href):\n",
    "    results = []\n",
    "    try:\n",
    "        for idx in range(1):\n",
    "            result = requests.request('GET', base_reviews_url.format(movie_href), cookies=cookies)\n",
    "            soup = BeautifulSoup(result.content.decode(), 'lxml')\n",
    "\n",
    "            reviews = soup.find_all('div', {'class': 'reviewItem userReview'})\n",
    "            if not reviews:\n",
    "                base = {'content': soup.extract(), 'name': movie_href}\n",
    "                results.append(base)\n",
    "                break\n",
    "            for rewiev in reviews:\n",
    "                rewiev_content = rewiev.find('div', {'class': regex.compile('response .*')})\n",
    "                sentiment = rewiev_content.attrs['class'][1]\n",
    "                text = rewiev_content.find('span', {'class': '_reachbanner_'})\n",
    "                text = text_with_newlines(text).replace('\\n', '')\n",
    "                \n",
    "                base = {'content': soup.extract(), 'name': movie_href}\n",
    "                base['sentiment'] = sentiment\n",
    "                base['text'] = text\n",
    "                results.append(base)\n",
    "            else:\n",
    "                break\n",
    "    except Exception as e:\n",
    "        logging.error('%s %s' % (movie_href, str(e)))\n",
    "    return results"
   ]
  },
  {
   "cell_type": "code",
   "execution_count": 9,
   "metadata": {},
   "outputs": [],
   "source": [
    "def chunks(l, n):\n",
    "    for i in range(0, len(l), n):\n",
    "        yield l[i:i + n]"
   ]
  },
  {
   "cell_type": "code",
   "execution_count": 10,
   "metadata": {},
   "outputs": [
    {
     "name": "stderr",
     "output_type": "stream",
     "text": [
      "131it [01:36,  1.36it/s]                         "
     ]
    },
    {
     "name": "stdout",
     "output_type": "stream",
     "text": [
      "Total 4432 reviews\n",
      "Class balance: \n",
      "{0} {\n",
      "    \"good\": 2879,\n",
      "    \"neutral\": 752,\n",
      "    \"bad\": 801\n",
      "}\n"
     ]
    },
    {
     "name": "stderr",
     "output_type": "stream",
     "text": [
      "\n"
     ]
    }
   ],
   "source": [
    "pool_size = 24\n",
    "\n",
    "all_reviews = []\n",
    "\n",
    "total_reviews = 0\n",
    "class_counters = defaultdict(int)\n",
    "with open('./data.csv', 'w', encoding='utf-8', errors='ignore') as file:\n",
    "    for urls_chunk in tqdm(chunks(MOVIE_URLS, pool_size), total=len(MOVIE_URLS) // pool_size):\n",
    "        pool = ThreadPool(pool_size)\n",
    "        movies_reviews = pool.map(process_movie, urls_chunk)\n",
    "        pool.close()\n",
    "        pool.join()\n",
    "        for movie_reviews in movies_reviews:\n",
    "            all_reviews += movie_reviews\n",
    "            for review in movie_reviews:\n",
    "                if 'text' in review:\n",
    "                    file.write('{0}\\t{1}\\t{2}\\n'.format(review['name'], review['sentiment'], review['text']))\n",
    "                    total_reviews += 1\n",
    "                    class_counters[review['sentiment']] += 1\n",
    "        file.flush()\n",
    "                \n",
    "print('Total {0:d} reviews'.format(total_reviews))\n",
    "print('Class balance: \\n{0}',format(json.dumps(class_counters, indent=4)))"
   ]
  }
 ],
 "metadata": {
  "kernelspec": {
   "display_name": "Python 3",
   "language": "python",
   "name": "python3"
  },
  "language_info": {
   "codemirror_mode": {
    "name": "ipython",
    "version": 3
   },
   "file_extension": ".py",
   "mimetype": "text/x-python",
   "name": "python",
   "nbconvert_exporter": "python",
   "pygments_lexer": "ipython3",
   "version": "3.9.7"
  }
 },
 "nbformat": 4,
 "nbformat_minor": 2
}
