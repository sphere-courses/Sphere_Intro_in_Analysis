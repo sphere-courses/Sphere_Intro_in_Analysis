{
 "cells": [
  {
   "cell_type": "code",
   "execution_count": 1,
   "metadata": {},
   "outputs": [],
   "source": [
    "import requests\n",
    "from selenium.webdriver import Chrome"
   ]
  },
  {
   "cell_type": "code",
   "execution_count": null,
   "metadata": {},
   "outputs": [],
   "source": [
    "%pip install selenium"
   ]
  },
  {
   "cell_type": "code",
   "execution_count": 2,
   "metadata": {},
   "outputs": [
    {
     "name": "stderr",
     "output_type": "stream",
     "text": [
      "C:\\Users\\nahod\\AppData\\Local\\Temp\\ipykernel_28708\\3240642969.py:1: DeprecationWarning: executable_path has been deprecated, please pass in a Service object\n",
      "  driver = Chrome(r'C:/Toolchain/chromedriver/chromedriver.exe')\n"
     ]
    }
   ],
   "source": [
    "driver = Chrome(r'C:/Toolchain/chromedriver/chromedriver.exe')"
   ]
  },
  {
   "cell_type": "markdown",
   "metadata": {},
   "source": [
    "<a href='http://localhost:5000/js_test'>JavaScript Page</a>"
   ]
  },
  {
   "cell_type": "code",
   "execution_count": 3,
   "metadata": {},
   "outputs": [
    {
     "name": "stdout",
     "output_type": "stream",
     "text": [
      "from flask import Flask, jsonify, request\n",
      "app = Flask(__name__)\n",
      "\n",
      "@app.route('/js_test')\n",
      "def get_student_name():\n",
      "    return '<html><center><script>document.write(\"Hello, i`am js!\")</script></center></html>'\n",
      "\n",
      "if __name__ == '__main__':\n",
      "    app.run()\n",
      "\n",
      "\n",
      "\n",
      "\n",
      "# import requests\n",
      "\n",
      "# dictToSend = {'text':'what is the answer?'}\n",
      "# res = requests.post('http://127.0.0.1:5000/sentiment', json=dictToSend)\n",
      "# dictFromServer = res.json()\n",
      "# print('response from server:', res.text)\n"
     ]
    }
   ],
   "source": [
    "!wsl cat js_server.py"
   ]
  },
  {
   "cell_type": "code",
   "execution_count": null,
   "metadata": {},
   "outputs": [],
   "source": [
    "# export FLASK_APP=\"js_server\" ; flask run"
   ]
  },
  {
   "cell_type": "code",
   "execution_count": 4,
   "metadata": {},
   "outputs": [
    {
     "name": "stdout",
     "output_type": "stream",
     "text": [
      "b'<html><center><script>document.write(\"Hello, i`am js!\")</script></center></html>'\n"
     ]
    }
   ],
   "source": [
    "t = requests.get('http://localhost:5000/js_test')\n",
    "if t.status_code == 200:\n",
    "    print(t.content)\n",
    "else:\n",
    "    print('Bad code')"
   ]
  },
  {
   "cell_type": "code",
   "execution_count": 5,
   "metadata": {},
   "outputs": [],
   "source": [
    "driver.get('http://localhost:5000/js_test')"
   ]
  },
  {
   "cell_type": "code",
   "execution_count": 6,
   "metadata": {},
   "outputs": [
    {
     "name": "stderr",
     "output_type": "stream",
     "text": [
      "C:\\Users\\nahod\\AppData\\Local\\Temp\\ipykernel_28708\\897413116.py:1: DeprecationWarning: find_element_by_* commands are deprecated. Please use find_element() instead\n",
      "  driver.find_element_by_tag_name('html').text\n"
     ]
    },
    {
     "data": {
      "text/plain": [
       "'Hello, i`am js!'"
      ]
     },
     "execution_count": 6,
     "metadata": {},
     "output_type": "execute_result"
    }
   ],
   "source": [
    "driver.find_element_by_tag_name('html').text"
   ]
  },
  {
   "cell_type": "code",
   "execution_count": 7,
   "metadata": {},
   "outputs": [],
   "source": [
    "driver.close()"
   ]
  }
 ],
 "metadata": {
  "interpreter": {
   "hash": "ad5901fd144a6132bad6bc18dfdb01b1c7ca063af44b42f80570336028c38012"
  },
  "kernelspec": {
   "display_name": "Python 2",
   "language": "python",
   "name": "python3"
  },
  "language_info": {
   "codemirror_mode": {
    "name": "ipython",
    "version": 3
   },
   "file_extension": ".py",
   "mimetype": "text/x-python",
   "name": "python",
   "nbconvert_exporter": "python",
   "pygments_lexer": "ipython3",
   "version": "3.9.10"
  }
 },
 "nbformat": 4,
 "nbformat_minor": 2
}
