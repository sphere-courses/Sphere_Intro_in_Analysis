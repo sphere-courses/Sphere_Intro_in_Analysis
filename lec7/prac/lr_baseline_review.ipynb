{
 "cells": [
  {
   "cell_type": "code",
   "execution_count": 1,
   "metadata": {},
   "outputs": [],
   "source": [
    "import os\n",
    "import pickle\n",
    "import requests\n",
    "\n",
    "import numpy as np\n",
    "import pandas as pd\n",
    "import matplotlib.pyplot as plt\n",
    "\n",
    "from sklearn.metrics import roc_auc_score\n",
    "from sklearn.linear_model import LogisticRegression\n",
    "from sklearn.model_selection import cross_val_predict\n",
    "from sklearn.feature_extraction.text import TfidfVectorizer"
   ]
  },
  {
   "cell_type": "markdown",
   "metadata": {},
   "source": [
    "# Обучение модели"
   ]
  },
  {
   "cell_type": "code",
   "execution_count": 2,
   "metadata": {},
   "outputs": [],
   "source": [
    "with open('./data.csv', encoding='utf-8') as f_in:\n",
    "    y = []\n",
    "    texts = []\n",
    "    for line in f_in:\n",
    "        movie_id, sentiment, *text = line.strip('\\n').split('\\t')\n",
    "        text = ' '.join(text)\n",
    "        if sentiment == 'bad' or sentiment == 'good':\n",
    "            y.append(1 if sentiment == 'good' else 0)\n",
    "            texts.append(text)"
   ]
  },
  {
   "cell_type": "code",
   "execution_count": 3,
   "metadata": {},
   "outputs": [
    {
     "name": "stdout",
     "output_type": "stream",
     "text": [
      "(3680, 113678)\n",
      "CPU times: user 606 ms, sys: 37.5 ms, total: 643 ms\n",
      "Wall time: 642 ms\n"
     ]
    }
   ],
   "source": [
    "%%time\n",
    "tfidf = TfidfVectorizer()\n",
    "X = tfidf.fit_transform(texts)\n",
    "print(X.shape)"
   ]
  },
  {
   "cell_type": "code",
   "execution_count": 4,
   "metadata": {},
   "outputs": [
    {
     "name": "stderr",
     "output_type": "stream",
     "text": [
      "[Parallel(n_jobs=-1)]: Using backend LokyBackend with 16 concurrent workers.\n"
     ]
    },
    {
     "name": "stdout",
     "output_type": "stream",
     "text": [
      "Cross-validated AUC: 0.8704\n",
      "CPU times: user 37.6 ms, sys: 63.9 ms, total: 102 ms\n",
      "Wall time: 930 ms\n"
     ]
    },
    {
     "name": "stderr",
     "output_type": "stream",
     "text": [
      "[Parallel(n_jobs=-1)]: Done   4 out of   4 | elapsed:    0.8s finished\n"
     ]
    }
   ],
   "source": [
    "%%time\n",
    "y_pred_cv = cross_val_predict(LogisticRegression(), X, y, cv=4, n_jobs=-1, verbose=True, method='predict_proba')\n",
    "print('Cross-validated AUC: %.4f' % roc_auc_score(y, y_pred_cv[:,1]))"
   ]
  },
  {
   "cell_type": "code",
   "execution_count": 5,
   "metadata": {},
   "outputs": [
    {
     "name": "stdout",
     "output_type": "stream",
     "text": [
      "CPU times: user 3.96 s, sys: 7.67 s, total: 11.6 s\n",
      "Wall time: 901 ms\n"
     ]
    },
    {
     "name": "stderr",
     "output_type": "stream",
     "text": [
      "/home/maksim64/.local/lib/python3.9/site-packages/sklearn/utils/deprecation.py:87: FutureWarning: Function get_feature_names is deprecated; get_feature_names is deprecated in 1.0 and will be removed in 1.2. Please use get_feature_names_out instead.\n",
      "  warnings.warn(msg, category=FutureWarning)\n"
     ]
    }
   ],
   "source": [
    "%%time\n",
    "L = LogisticRegression(solver='lbfgs', class_weight='balanced')\n",
    "L.fit(X, y)\n",
    "\n",
    "features = tfidf.get_feature_names()\n",
    "features_with_weights = pd.DataFrame(zip(features, L.coef_[0]), columns=['feature', 'weight']).sort_values('weight')"
   ]
  },
  {
   "cell_type": "code",
   "execution_count": 6,
   "metadata": {},
   "outputs": [
    {
     "data": {
      "text/html": [
       "<div>\n",
       "<style scoped>\n",
       "    .dataframe tbody tr th:only-of-type {\n",
       "        vertical-align: middle;\n",
       "    }\n",
       "\n",
       "    .dataframe tbody tr th {\n",
       "        vertical-align: top;\n",
       "    }\n",
       "\n",
       "    .dataframe thead th {\n",
       "        text-align: right;\n",
       "    }\n",
       "</style>\n",
       "<table border=\"1\" class=\"dataframe\">\n",
       "  <thead>\n",
       "    <tr style=\"text-align: right;\">\n",
       "      <th></th>\n",
       "      <th>feature</th>\n",
       "      <th>weight</th>\n",
       "    </tr>\n",
       "  </thead>\n",
       "  <tbody>\n",
       "    <tr>\n",
       "      <th>54495</th>\n",
       "      <td>ни</td>\n",
       "      <td>-2.939939</td>\n",
       "    </tr>\n",
       "    <tr>\n",
       "      <th>53984</th>\n",
       "      <td>нет</td>\n",
       "      <td>-2.812266</td>\n",
       "    </tr>\n",
       "    <tr>\n",
       "      <th>29775</th>\n",
       "      <td>зачем</td>\n",
       "      <td>-2.598898</td>\n",
       "    </tr>\n",
       "    <tr>\n",
       "      <th>12853</th>\n",
       "      <td>вообще</td>\n",
       "      <td>-2.440757</td>\n",
       "    </tr>\n",
       "    <tr>\n",
       "      <th>50533</th>\n",
       "      <td>не</td>\n",
       "      <td>-2.377328</td>\n",
       "    </tr>\n",
       "    <tr>\n",
       "      <th>...</th>\n",
       "      <td>...</td>\n",
       "      <td>...</td>\n",
       "    </tr>\n",
       "    <tr>\n",
       "      <th>61339</th>\n",
       "      <td>отлично</td>\n",
       "      <td>1.631123</td>\n",
       "    </tr>\n",
       "    <tr>\n",
       "      <th>53719</th>\n",
       "      <td>несмотря</td>\n",
       "      <td>1.672449</td>\n",
       "    </tr>\n",
       "    <tr>\n",
       "      <th>34502</th>\n",
       "      <td>каждый</td>\n",
       "      <td>1.812346</td>\n",
       "    </tr>\n",
       "    <tr>\n",
       "      <th>58831</th>\n",
       "      <td>он</td>\n",
       "      <td>2.006557</td>\n",
       "    </tr>\n",
       "    <tr>\n",
       "      <th>62847</th>\n",
       "      <td>очень</td>\n",
       "      <td>2.917516</td>\n",
       "    </tr>\n",
       "  </tbody>\n",
       "</table>\n",
       "<p>113678 rows × 2 columns</p>\n",
       "</div>"
      ],
      "text/plain": [
       "        feature    weight\n",
       "54495        ни -2.939939\n",
       "53984       нет -2.812266\n",
       "29775     зачем -2.598898\n",
       "12853    вообще -2.440757\n",
       "50533        не -2.377328\n",
       "...         ...       ...\n",
       "61339   отлично  1.631123\n",
       "53719  несмотря  1.672449\n",
       "34502    каждый  1.812346\n",
       "58831        он  2.006557\n",
       "62847     очень  2.917516\n",
       "\n",
       "[113678 rows x 2 columns]"
      ]
     },
     "execution_count": 6,
     "metadata": {},
     "output_type": "execute_result"
    }
   ],
   "source": [
    "features_with_weights"
   ]
  },
  {
   "cell_type": "code",
   "execution_count": 7,
   "metadata": {},
   "outputs": [
    {
     "data": {
      "image/png": "[encoded data removed]",
      "text/plain": [
       "<Figure size 432x288 with 1 Axes>"
      ]
     },
     "metadata": {
      "needs_background": "light"
     },
     "output_type": "display_data"
    },
    {
     "name": "stdout",
     "output_type": "stream",
     "text": [
      "0.43434343434343436 0.9842391304347826\n"
     ]
    }
   ],
   "source": [
    "plt.hist(L.predict_proba(X[np.array(y) == 0])[:, 1], bins=100)\n",
    "plt.hist(L.predict_proba(X[np.array(y) == 1])[:, 1], bins=100)\n",
    "plt.show()\n",
    "\n",
    "best_threshold, best_accuracy = 0.0, 0.0\n",
    "for _ in np.linspace(0, 1, 100):\n",
    "    correct_0 = np.sum(L.predict_proba(X[np.array(y) == 0])[:, 1] < _)\n",
    "    correct_1 = np.sum(L.predict_proba(X[np.array(y) == 1])[:, 1] > _)\n",
    "    accuracy_0 = (correct_0) / (np.sum(np.array(y) == 0))\n",
    "    accuracy_1 = (correct_1) / (np.sum(np.array(y) == 1))\n",
    "    accuracy = (correct_0 + correct_1) / (np.sum(np.array(y) == 0) + np.sum(np.array(y) == 1))\n",
    "    if best_accuracy < accuracy:\n",
    "        best_threshold, best_accuracy = _, accuracy\n",
    "#     print(\"{0:.3f}\\t{1:.3f}\\t{2:.3f}\\t{3:.3f}\\t\".format(_, accuracy_0, accuracy_1, accuracy))\n",
    "print(best_threshold, best_accuracy)"
   ]
  },
  {
   "cell_type": "code",
   "execution_count": 8,
   "metadata": {},
   "outputs": [],
   "source": [
    "os.makedirs('./artefacts', exist_ok=True)\n",
    "with open('./artefacts/logreg.pkl', 'wb') as f_out:\n",
    "    pickle.dump(L, f_out)\n",
    "with open('./artefacts/tf-idf.pkl', 'wb') as f_out:\n",
    "    pickle.dump(tfidf, f_out)\n",
    "with open('./artefacts/params.pkl', 'wb') as f_out:\n",
    "    pickle.dump({'threshold': best_threshold}, f_out)"
   ]
  },
  {
   "cell_type": "markdown",
   "metadata": {},
   "source": [
    "# Проверка работы на сервере"
   ]
  },
  {
   "cell_type": "code",
   "execution_count": 9,
   "metadata": {},
   "outputs": [],
   "source": [
    "# export FLASK_APP=\"random_server\" ; flask run"
   ]
  },
  {
   "cell_type": "code",
   "execution_count": 10,
   "metadata": {},
   "outputs": [
    {
     "name": "stdout",
     "output_type": "stream",
     "text": [
      "response from server: {\"score\":0.6972330437779539,\"sentiment\":\"positive\"}\n",
      "\n"
     ]
    }
   ],
   "source": [
    "result = requests.post('http://127.0.0.1:5000/sentiment', json={'text': 'what is the answer?'})\n",
    "print('response from server:', result.text)"
   ]
  }
 ],
 "metadata": {
  "kernelspec": {
   "display_name": "Python 3",
   "language": "python",
   "name": "python3"
  },
  "language_info": {
   "codemirror_mode": {
    "name": "ipython",
    "version": 3
   },
   "file_extension": ".py",
   "mimetype": "text/x-python",
   "name": "python",
   "nbconvert_exporter": "python",
   "pygments_lexer": "ipython3",
   "version": "3.9.7"
  }
 },
 "nbformat": 4,
 "nbformat_minor": 2
}
